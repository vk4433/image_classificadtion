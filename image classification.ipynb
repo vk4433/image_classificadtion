{
 "cells": [
  {
   "cell_type": "code",
   "execution_count": 5,
   "id": "1a752559",
   "metadata": {},
   "outputs": [
    {
     "name": "stdout",
     "output_type": "stream",
     "text": [
      "Requirement already satisfied: Tensorflow in c:\\users\\polam\\anaconda3\\lib\\site-packages (2.16.1)\n",
      "Requirement already satisfied: tensorflow-intel==2.16.1 in c:\\users\\polam\\anaconda3\\lib\\site-packages (from Tensorflow) (2.16.1)\n",
      "Requirement already satisfied: absl-py>=1.0.0 in c:\\users\\polam\\anaconda3\\lib\\site-packages (from tensorflow-intel==2.16.1->Tensorflow) (2.1.0)\n",
      "Requirement already satisfied: astunparse>=1.6.0 in c:\\users\\polam\\anaconda3\\lib\\site-packages (from tensorflow-intel==2.16.1->Tensorflow) (1.6.3)\n",
      "Requirement already satisfied: flatbuffers>=23.5.26 in c:\\users\\polam\\anaconda3\\lib\\site-packages (from tensorflow-intel==2.16.1->Tensorflow) (24.3.25)\n",
      "Requirement already satisfied: gast!=0.5.0,!=0.5.1,!=0.5.2,>=0.2.1 in c:\\users\\polam\\anaconda3\\lib\\site-packages (from tensorflow-intel==2.16.1->Tensorflow) (0.5.4)\n",
      "Requirement already satisfied: google-pasta>=0.1.1 in c:\\users\\polam\\anaconda3\\lib\\site-packages (from tensorflow-intel==2.16.1->Tensorflow) (0.2.0)\n",
      "Requirement already satisfied: h5py>=3.10.0 in c:\\users\\polam\\anaconda3\\lib\\site-packages (from tensorflow-intel==2.16.1->Tensorflow) (3.11.0)\n",
      "Requirement already satisfied: libclang>=13.0.0 in c:\\users\\polam\\anaconda3\\lib\\site-packages (from tensorflow-intel==2.16.1->Tensorflow) (18.1.1)\n",
      "Requirement already satisfied: ml-dtypes~=0.3.1 in c:\\users\\polam\\anaconda3\\lib\\site-packages (from tensorflow-intel==2.16.1->Tensorflow) (0.3.2)\n",
      "Requirement already satisfied: opt-einsum>=2.3.2 in c:\\users\\polam\\anaconda3\\lib\\site-packages (from tensorflow-intel==2.16.1->Tensorflow) (3.3.0)\n",
      "Requirement already satisfied: packaging in c:\\users\\polam\\anaconda3\\lib\\site-packages (from tensorflow-intel==2.16.1->Tensorflow) (23.1)\n",
      "Requirement already satisfied: protobuf!=4.21.0,!=4.21.1,!=4.21.2,!=4.21.3,!=4.21.4,!=4.21.5,<5.0.0dev,>=3.20.3 in c:\\users\\polam\\anaconda3\\lib\\site-packages (from tensorflow-intel==2.16.1->Tensorflow) (3.20.3)\n",
      "Requirement already satisfied: requests<3,>=2.21.0 in c:\\users\\polam\\anaconda3\\lib\\site-packages (from tensorflow-intel==2.16.1->Tensorflow) (2.31.0)\n",
      "Requirement already satisfied: setuptools in c:\\users\\polam\\anaconda3\\lib\\site-packages (from tensorflow-intel==2.16.1->Tensorflow) (68.2.2)\n",
      "Requirement already satisfied: six>=1.12.0 in c:\\users\\polam\\anaconda3\\lib\\site-packages (from tensorflow-intel==2.16.1->Tensorflow) (1.16.0)\n",
      "Requirement already satisfied: termcolor>=1.1.0 in c:\\users\\polam\\anaconda3\\lib\\site-packages (from tensorflow-intel==2.16.1->Tensorflow) (2.4.0)\n",
      "Requirement already satisfied: typing-extensions>=3.6.6 in c:\\users\\polam\\anaconda3\\lib\\site-packages (from tensorflow-intel==2.16.1->Tensorflow) (4.9.0)\n",
      "Requirement already satisfied: wrapt>=1.11.0 in c:\\users\\polam\\anaconda3\\lib\\site-packages (from tensorflow-intel==2.16.1->Tensorflow) (1.14.1)\n",
      "Requirement already satisfied: grpcio<2.0,>=1.24.3 in c:\\users\\polam\\anaconda3\\lib\\site-packages (from tensorflow-intel==2.16.1->Tensorflow) (1.62.2)\n",
      "Requirement already satisfied: tensorboard<2.17,>=2.16 in c:\\users\\polam\\anaconda3\\lib\\site-packages (from tensorflow-intel==2.16.1->Tensorflow) (2.16.2)\n",
      "Requirement already satisfied: keras>=3.0.0 in c:\\users\\polam\\anaconda3\\lib\\site-packages (from tensorflow-intel==2.16.1->Tensorflow) (3.3.2)\n",
      "Requirement already satisfied: tensorflow-io-gcs-filesystem>=0.23.1 in c:\\users\\polam\\anaconda3\\lib\\site-packages (from tensorflow-intel==2.16.1->Tensorflow) (0.31.0)\n",
      "Requirement already satisfied: numpy<2.0.0,>=1.23.5 in c:\\users\\polam\\anaconda3\\lib\\site-packages (from tensorflow-intel==2.16.1->Tensorflow) (1.26.4)\n",
      "Requirement already satisfied: wheel<1.0,>=0.23.0 in c:\\users\\polam\\anaconda3\\lib\\site-packages (from astunparse>=1.6.0->tensorflow-intel==2.16.1->Tensorflow) (0.41.2)\n",
      "Requirement already satisfied: rich in c:\\users\\polam\\anaconda3\\lib\\site-packages (from keras>=3.0.0->tensorflow-intel==2.16.1->Tensorflow) (13.3.5)\n",
      "Requirement already satisfied: namex in c:\\users\\polam\\anaconda3\\lib\\site-packages (from keras>=3.0.0->tensorflow-intel==2.16.1->Tensorflow) (0.0.8)\n",
      "Requirement already satisfied: optree in c:\\users\\polam\\anaconda3\\lib\\site-packages (from keras>=3.0.0->tensorflow-intel==2.16.1->Tensorflow) (0.11.0)\n",
      "Requirement already satisfied: charset-normalizer<4,>=2 in c:\\users\\polam\\anaconda3\\lib\\site-packages (from requests<3,>=2.21.0->tensorflow-intel==2.16.1->Tensorflow) (2.0.4)\n",
      "Requirement already satisfied: idna<4,>=2.5 in c:\\users\\polam\\anaconda3\\lib\\site-packages (from requests<3,>=2.21.0->tensorflow-intel==2.16.1->Tensorflow) (3.4)\n",
      "Requirement already satisfied: urllib3<3,>=1.21.1 in c:\\users\\polam\\anaconda3\\lib\\site-packages (from requests<3,>=2.21.0->tensorflow-intel==2.16.1->Tensorflow) (2.0.7)\n",
      "Requirement already satisfied: certifi>=2017.4.17 in c:\\users\\polam\\anaconda3\\lib\\site-packages (from requests<3,>=2.21.0->tensorflow-intel==2.16.1->Tensorflow) (2024.2.2)\n",
      "Requirement already satisfied: markdown>=2.6.8 in c:\\users\\polam\\anaconda3\\lib\\site-packages (from tensorboard<2.17,>=2.16->tensorflow-intel==2.16.1->Tensorflow) (3.4.1)\n",
      "Requirement already satisfied: tensorboard-data-server<0.8.0,>=0.7.0 in c:\\users\\polam\\anaconda3\\lib\\site-packages (from tensorboard<2.17,>=2.16->tensorflow-intel==2.16.1->Tensorflow) (0.7.2)\n",
      "Requirement already satisfied: werkzeug>=1.0.1 in c:\\users\\polam\\anaconda3\\lib\\site-packages (from tensorboard<2.17,>=2.16->tensorflow-intel==2.16.1->Tensorflow) (2.2.3)\n",
      "Requirement already satisfied: MarkupSafe>=2.1.1 in c:\\users\\polam\\anaconda3\\lib\\site-packages (from werkzeug>=1.0.1->tensorboard<2.17,>=2.16->tensorflow-intel==2.16.1->Tensorflow) (2.1.3)\n",
      "Requirement already satisfied: markdown-it-py<3.0.0,>=2.2.0 in c:\\users\\polam\\anaconda3\\lib\\site-packages (from rich->keras>=3.0.0->tensorflow-intel==2.16.1->Tensorflow) (2.2.0)\n",
      "Requirement already satisfied: pygments<3.0.0,>=2.13.0 in c:\\users\\polam\\anaconda3\\lib\\site-packages (from rich->keras>=3.0.0->tensorflow-intel==2.16.1->Tensorflow) (2.15.1)\n",
      "Requirement already satisfied: mdurl~=0.1 in c:\\users\\polam\\anaconda3\\lib\\site-packages (from markdown-it-py<3.0.0,>=2.2.0->rich->keras>=3.0.0->tensorflow-intel==2.16.1->Tensorflow) (0.1.0)\n"
     ]
    }
   ],
   "source": [
    "!pip install Tensorflow"
   ]
  },
  {
   "cell_type": "code",
   "execution_count": 6,
   "id": "ba0e9101",
   "metadata": {},
   "outputs": [],
   "source": [
    "import numpy as np \n",
    "import matplotlib.pyplot as plt\n",
    "import seaborn as sns\n",
    "from  tensorflow.keras.models import Sequential\n",
    "from tensorflow.keras.layers import Conv2D,MaxPooling2D,Dense,Flatten\n",
    "import random as r"
   ]
  },
  {
   "cell_type": "code",
   "execution_count": 7,
   "id": "ebd736c9",
   "metadata": {},
   "outputs": [],
   "source": [
    "x_train = np.loadtxt(\"input.csv\",delimiter=\",\")\n",
    "y_train=np.loadtxt(\"labels.csv\",delimiter=\",\")\n",
    "x_test=np.loadtxt(\"input_test.csv\",delimiter=\",\")\n",
    "y_test = np.loadtxt(\"labels_test.csv\",delimiter=\",\")"
   ]
  },
  {
   "cell_type": "code",
   "execution_count": 8,
   "id": "471ee6ff",
   "metadata": {},
   "outputs": [
    {
     "name": "stdout",
     "output_type": "stream",
     "text": [
      "x_train.shape: (2000, 30000)\n",
      "y_train.shape: (2000,)\n",
      "x_test.shape: (400, 30000)\n",
      "y_test.shape: (400,)\n"
     ]
    }
   ],
   "source": [
    "print(\"x_train.shape:\",x_train.shape)\n",
    "print(\"y_train.shape:\",y_train.shape)\n",
    "print(\"x_test.shape:\",x_test.shape)\n",
    "print(\"y_test.shape:\",y_test.shape)\n",
    "# 3000 is 100*100*3 (RGB)image"
   ]
  },
  {
   "cell_type": "markdown",
   "id": "2da6359c",
   "metadata": {},
   "source": [
    "Reshape\n"
   ]
  },
  {
   "cell_type": "code",
   "execution_count": 9,
   "id": "e5610223",
   "metadata": {},
   "outputs": [],
   "source": [
    "x_train = x_train.reshape(len(x_train),100,100,3)\n",
    "y_train = y_train.reshape(len(y_train),1)\n",
    "x_test = x_test.reshape(len(x_test),100,100,3)\n",
    "y_test = y_test.reshape(len(y_test),1)\n",
    "x_train=x_train/255.0\n",
    "x_test = x_test/255.0"
   ]
  },
  {
   "cell_type": "code",
   "execution_count": 10,
   "id": "3c452987",
   "metadata": {},
   "outputs": [
    {
     "name": "stdout",
     "output_type": "stream",
     "text": [
      "x_train.shape: (2000, 100, 100, 3)\n",
      "y_train.shape: (2000, 1)\n",
      "x_test.shape: (400, 100, 100, 3)\n",
      "y_test.shape: (400, 1)\n"
     ]
    }
   ],
   "source": [
    "print(\"x_train.shape:\",x_train.shape)\n",
    "print(\"y_train.shape:\",y_train.shape)\n",
    "print(\"x_test.shape:\",x_test.shape)\n",
    "print(\"y_test.shape:\",y_test.shape)\n",
    "# 3000 is 100*100*3 (RGB)image"
   ]
  },
  {
   "cell_type": "code",
   "execution_count": 11,
   "id": "c9735acf",
   "metadata": {},
   "outputs": [
    {
     "data": {
      "text/plain": [
       "array([[[[0.14509804, 0.15294118, 0.09803922],\n",
       "         [0.10196078, 0.09411765, 0.03529412],\n",
       "         [0.13333333, 0.09803922, 0.03921569],\n",
       "         ...,\n",
       "         [0.22352941, 0.17254902, 0.1372549 ],\n",
       "         [0.23921569, 0.18431373, 0.14901961],\n",
       "         [0.25490196, 0.2       , 0.16470588]],\n",
       "\n",
       "        [[0.17647059, 0.16862745, 0.10980392],\n",
       "         [0.10980392, 0.09803922, 0.03137255],\n",
       "         [0.20392157, 0.15686275, 0.09411765],\n",
       "         ...,\n",
       "         [0.21176471, 0.16078431, 0.1254902 ],\n",
       "         [0.22352941, 0.16862745, 0.13333333],\n",
       "         [0.23921569, 0.18431373, 0.14901961]],\n",
       "\n",
       "        [[0.20392157, 0.17647059, 0.10196078],\n",
       "         [0.1254902 , 0.09411765, 0.01960784],\n",
       "         [0.27058824, 0.21176471, 0.1372549 ],\n",
       "         ...,\n",
       "         [0.21176471, 0.15686275, 0.11372549],\n",
       "         [0.21960784, 0.16470588, 0.12156863],\n",
       "         [0.23137255, 0.17647059, 0.13333333]],\n",
       "\n",
       "        ...,\n",
       "\n",
       "        [[0.07843137, 0.15294118, 0.        ],\n",
       "         [0.39607843, 0.49019608, 0.2627451 ],\n",
       "         [0.59607843, 0.71372549, 0.47058824],\n",
       "         ...,\n",
       "         [0.18039216, 0.16078431, 0.0745098 ],\n",
       "         [0.23529412, 0.21568627, 0.12941176],\n",
       "         [0.23529412, 0.21568627, 0.12941176]],\n",
       "\n",
       "        [[0.18039216, 0.25490196, 0.03529412],\n",
       "         [0.45490196, 0.54901961, 0.32156863],\n",
       "         [0.61176471, 0.72941176, 0.48627451],\n",
       "         ...,\n",
       "         [0.25098039, 0.23529412, 0.1372549 ],\n",
       "         [0.29411765, 0.27843137, 0.18039216],\n",
       "         [0.28235294, 0.26666667, 0.16862745]],\n",
       "\n",
       "        [[0.31764706, 0.39215686, 0.17254902],\n",
       "         [0.49411765, 0.58823529, 0.36078431],\n",
       "         [0.57254902, 0.69019608, 0.44705882],\n",
       "         ...,\n",
       "         [0.2627451 , 0.24705882, 0.14901961],\n",
       "         [0.30588235, 0.29019608, 0.19215686],\n",
       "         [0.22745098, 0.21176471, 0.11372549]]],\n",
       "\n",
       "\n",
       "       [[[0.51372549, 0.50196078, 0.52941176],\n",
       "         [0.62745098, 0.61568627, 0.64313725],\n",
       "         [0.77647059, 0.75294118, 0.8       ],\n",
       "         ...,\n",
       "         [0.98039216, 0.97647059, 0.96862745],\n",
       "         [1.        , 1.        , 0.99215686],\n",
       "         [0.98039216, 0.97647059, 0.96078431]],\n",
       "\n",
       "        [[0.54901961, 0.5372549 , 0.56470588],\n",
       "         [0.49803922, 0.48627451, 0.51372549],\n",
       "         [0.47058824, 0.44705882, 0.48627451],\n",
       "         ...,\n",
       "         [0.98431373, 0.99215686, 0.98823529],\n",
       "         [0.99607843, 1.        , 0.99215686],\n",
       "         [0.99607843, 1.        , 0.98431373]],\n",
       "\n",
       "        [[0.8       , 0.79215686, 0.81176471],\n",
       "         [0.73333333, 0.7254902 , 0.74509804],\n",
       "         [0.57647059, 0.55686275, 0.58039216],\n",
       "         ...,\n",
       "         [0.97647059, 1.        , 1.        ],\n",
       "         [0.93333333, 0.96862745, 0.94901961],\n",
       "         [0.90980392, 0.94509804, 0.9254902 ]],\n",
       "\n",
       "        ...,\n",
       "\n",
       "        [[0.68235294, 0.71372549, 0.76470588],\n",
       "         [0.6745098 , 0.70588235, 0.75686275],\n",
       "         [0.69803922, 0.72941176, 0.77254902],\n",
       "         ...,\n",
       "         [0.34117647, 0.44705882, 0.38039216],\n",
       "         [0.29411765, 0.38823529, 0.3254902 ],\n",
       "         [0.31372549, 0.41176471, 0.3372549 ]],\n",
       "\n",
       "        [[0.65098039, 0.67843137, 0.74117647],\n",
       "         [0.64313725, 0.6745098 , 0.7254902 ],\n",
       "         [0.6745098 , 0.70588235, 0.75686275],\n",
       "         ...,\n",
       "         [0.30588235, 0.41568627, 0.32941176],\n",
       "         [0.28235294, 0.38039216, 0.29803922],\n",
       "         [0.30196078, 0.4       , 0.31764706]],\n",
       "\n",
       "        [[0.67843137, 0.70588235, 0.76862745],\n",
       "         [0.6745098 , 0.70196078, 0.76470588],\n",
       "         [0.68235294, 0.71372549, 0.76470588],\n",
       "         ...,\n",
       "         [0.24705882, 0.35686275, 0.27058824],\n",
       "         [0.24313725, 0.34117647, 0.25490196],\n",
       "         [0.27843137, 0.37647059, 0.29019608]]],\n",
       "\n",
       "\n",
       "       [[[0.31372549, 0.36078431, 0.34509804],\n",
       "         [0.3254902 , 0.37647059, 0.34901961],\n",
       "         [0.29803922, 0.36078431, 0.32156863],\n",
       "         ...,\n",
       "         [0.05490196, 0.1372549 , 0.07843137],\n",
       "         [0.05490196, 0.1372549 , 0.07843137],\n",
       "         [0.07843137, 0.16078431, 0.10196078]],\n",
       "\n",
       "        [[0.30588235, 0.34117647, 0.32941176],\n",
       "         [0.35294118, 0.39607843, 0.37254902],\n",
       "         [0.30980392, 0.35294118, 0.32156863],\n",
       "         ...,\n",
       "         [0.14509804, 0.21176471, 0.14901961],\n",
       "         [0.12156863, 0.18823529, 0.1254902 ],\n",
       "         [0.05098039, 0.11764706, 0.05490196]],\n",
       "\n",
       "        [[0.25098039, 0.25882353, 0.24705882],\n",
       "         [0.31372549, 0.33333333, 0.30980392],\n",
       "         [0.36470588, 0.39215686, 0.36078431],\n",
       "         ...,\n",
       "         [0.15686275, 0.18039216, 0.1254902 ],\n",
       "         [0.15686275, 0.18823529, 0.12941176],\n",
       "         [0.05490196, 0.08627451, 0.02745098]],\n",
       "\n",
       "        ...,\n",
       "\n",
       "        [[0.39215686, 0.42745098, 0.36078431],\n",
       "         [0.36470588, 0.41568627, 0.3372549 ],\n",
       "         [0.35294118, 0.43137255, 0.33333333],\n",
       "         ...,\n",
       "         [0.6745098 , 0.65490196, 0.58039216],\n",
       "         [0.63137255, 0.61176471, 0.5372549 ],\n",
       "         [0.56862745, 0.54901961, 0.4745098 ]],\n",
       "\n",
       "        [[0.38823529, 0.43137255, 0.36470588],\n",
       "         [0.37647059, 0.42745098, 0.34901961],\n",
       "         [0.36078431, 0.43921569, 0.34117647],\n",
       "         ...,\n",
       "         [0.58823529, 0.56862745, 0.49411765],\n",
       "         [0.52156863, 0.50196078, 0.42352941],\n",
       "         [0.57254902, 0.55294118, 0.4745098 ]],\n",
       "\n",
       "        [[0.41568627, 0.45882353, 0.39215686],\n",
       "         [0.4       , 0.45882353, 0.37647059],\n",
       "         [0.36862745, 0.44705882, 0.34901961],\n",
       "         ...,\n",
       "         [0.52156863, 0.50196078, 0.42745098],\n",
       "         [0.46666667, 0.44705882, 0.36862745],\n",
       "         [0.48627451, 0.46666667, 0.38823529]]],\n",
       "\n",
       "\n",
       "       ...,\n",
       "\n",
       "\n",
       "       [[[0.90588235, 0.88627451, 0.90196078],\n",
       "         [0.9372549 , 0.92156863, 0.9254902 ],\n",
       "         [0.95294118, 0.9372549 , 0.93333333],\n",
       "         ...,\n",
       "         [0.92941176, 0.89411765, 0.83529412],\n",
       "         [0.76470588, 0.7254902 , 0.67843137],\n",
       "         [0.83921569, 0.8       , 0.75294118]],\n",
       "\n",
       "        [[0.95686275, 0.93333333, 0.94901961],\n",
       "         [0.8627451 , 0.84705882, 0.85098039],\n",
       "         [0.97254902, 0.95294118, 0.94117647],\n",
       "         ...,\n",
       "         [0.91764706, 0.87058824, 0.80784314],\n",
       "         [0.72156863, 0.6745098 , 0.61960784],\n",
       "         [0.76078431, 0.71372549, 0.65882353]],\n",
       "\n",
       "        [[0.91372549, 0.87843137, 0.89019608],\n",
       "         [0.85098039, 0.82745098, 0.82745098],\n",
       "         [0.9372549 , 0.90588235, 0.89411765],\n",
       "         ...,\n",
       "         [0.94509804, 0.87843137, 0.81568627],\n",
       "         [0.79607843, 0.72941176, 0.66666667],\n",
       "         [0.82352941, 0.75686275, 0.69411765]],\n",
       "\n",
       "        ...,\n",
       "\n",
       "        [[0.03137255, 0.00784314, 0.00784314],\n",
       "         [0.03921569, 0.02352941, 0.01960784],\n",
       "         [0.05098039, 0.03529412, 0.02352941],\n",
       "         ...,\n",
       "         [0.29803922, 0.30980392, 0.3372549 ],\n",
       "         [0.27058824, 0.28235294, 0.30980392],\n",
       "         [0.25882353, 0.27058824, 0.29803922]],\n",
       "\n",
       "        [[0.18823529, 0.17254902, 0.16862745],\n",
       "         [0.19215686, 0.18823529, 0.18039216],\n",
       "         [0.19607843, 0.19215686, 0.18431373],\n",
       "         ...,\n",
       "         [0.29411765, 0.30588235, 0.33333333],\n",
       "         [0.27058824, 0.28235294, 0.30980392],\n",
       "         [0.25490196, 0.26666667, 0.29411765]],\n",
       "\n",
       "        [[0.25882353, 0.25490196, 0.24705882],\n",
       "         [0.27058824, 0.26666667, 0.25882353],\n",
       "         [0.2745098 , 0.2745098 , 0.26666667],\n",
       "         ...,\n",
       "         [0.29019608, 0.30196078, 0.32941176],\n",
       "         [0.26666667, 0.27843137, 0.30588235],\n",
       "         [0.24313725, 0.25490196, 0.28235294]]],\n",
       "\n",
       "\n",
       "       [[[0.23921569, 0.23921569, 0.24705882],\n",
       "         [0.09411765, 0.09019608, 0.10980392],\n",
       "         [0.09803922, 0.09803922, 0.12941176],\n",
       "         ...,\n",
       "         [0.18431373, 0.2       , 0.20392157],\n",
       "         [0.17647059, 0.19215686, 0.19607843],\n",
       "         [0.17647059, 0.19215686, 0.19607843]],\n",
       "\n",
       "        [[0.04313725, 0.04705882, 0.05490196],\n",
       "         [0.0627451 , 0.07843137, 0.08235294],\n",
       "         [0.07058824, 0.08235294, 0.10980392],\n",
       "         ...,\n",
       "         [0.25882353, 0.2745098 , 0.27843137],\n",
       "         [0.23921569, 0.25490196, 0.26666667],\n",
       "         [0.23137255, 0.24705882, 0.25098039]],\n",
       "\n",
       "        [[0.01176471, 0.04705882, 0.03529412],\n",
       "         [0.06666667, 0.10196078, 0.09019608],\n",
       "         [0.13333333, 0.16470588, 0.17647059],\n",
       "         ...,\n",
       "         [0.32941176, 0.34901961, 0.36078431],\n",
       "         [0.29019608, 0.30980392, 0.3254902 ],\n",
       "         [0.2745098 , 0.29411765, 0.30588235]],\n",
       "\n",
       "        ...,\n",
       "\n",
       "        [[0.57647059, 0.56862745, 0.62352941],\n",
       "         [0.53333333, 0.52156863, 0.58823529],\n",
       "         [0.51764706, 0.50588235, 0.57254902],\n",
       "         ...,\n",
       "         [0.48627451, 0.43137255, 0.41960784],\n",
       "         [0.45098039, 0.39607843, 0.38431373],\n",
       "         [0.50980392, 0.45490196, 0.44313725]],\n",
       "\n",
       "        [[0.54509804, 0.53333333, 0.6       ],\n",
       "         [0.50588235, 0.49411765, 0.56078431],\n",
       "         [0.50196078, 0.49019608, 0.56470588],\n",
       "         ...,\n",
       "         [0.45882353, 0.40392157, 0.4       ],\n",
       "         [0.36862745, 0.31372549, 0.30980392],\n",
       "         [0.43529412, 0.39215686, 0.38431373]],\n",
       "\n",
       "        [[0.52941176, 0.51764706, 0.58431373],\n",
       "         [0.47843137, 0.46666667, 0.53333333],\n",
       "         [0.56078431, 0.54901961, 0.63137255],\n",
       "         ...,\n",
       "         [0.58431373, 0.52941176, 0.52941176],\n",
       "         [0.48235294, 0.43529412, 0.43529412],\n",
       "         [0.52941176, 0.48235294, 0.48235294]]],\n",
       "\n",
       "\n",
       "       [[[0.25098039, 0.12156863, 0.04705882],\n",
       "         [0.4627451 , 0.24705882, 0.16470588],\n",
       "         [0.76470588, 0.36470588, 0.27843137],\n",
       "         ...,\n",
       "         [0.3372549 , 0.17647059, 0.09803922],\n",
       "         [0.32941176, 0.18039216, 0.09803922],\n",
       "         [0.33333333, 0.18431373, 0.10196078]],\n",
       "\n",
       "        [[0.21568627, 0.11372549, 0.04705882],\n",
       "         [0.34509804, 0.15686275, 0.07843137],\n",
       "         [0.69803922, 0.31372549, 0.21568627],\n",
       "         ...,\n",
       "         [0.35686275, 0.19215686, 0.09803922],\n",
       "         [0.34117647, 0.18431373, 0.08627451],\n",
       "         [0.33333333, 0.17647059, 0.07843137]],\n",
       "\n",
       "        [[0.16862745, 0.12156863, 0.05882353],\n",
       "         [0.29803922, 0.15294118, 0.07843137],\n",
       "         [0.6       , 0.24705882, 0.14117647],\n",
       "         ...,\n",
       "         [0.37647059, 0.2       , 0.08627451],\n",
       "         [0.35294118, 0.17647059, 0.0627451 ],\n",
       "         [0.3372549 , 0.16078431, 0.04705882]],\n",
       "\n",
       "        ...,\n",
       "\n",
       "        [[0.51764706, 0.43529412, 0.32156863],\n",
       "         [0.50196078, 0.41960784, 0.30588235],\n",
       "         [0.56078431, 0.48627451, 0.36862745],\n",
       "         ...,\n",
       "         [0.35686275, 0.30588235, 0.23921569],\n",
       "         [0.29019608, 0.23529412, 0.18431373],\n",
       "         [0.25098039, 0.19607843, 0.14509804]],\n",
       "\n",
       "        [[0.47058824, 0.38823529, 0.2745098 ],\n",
       "         [0.50588235, 0.42352941, 0.30980392],\n",
       "         [0.53333333, 0.45882353, 0.34117647],\n",
       "         ...,\n",
       "         [0.44313725, 0.39215686, 0.3254902 ],\n",
       "         [0.29803922, 0.24313725, 0.19215686],\n",
       "         [0.25882353, 0.21176471, 0.15686275]],\n",
       "\n",
       "        [[0.49019608, 0.40784314, 0.29411765],\n",
       "         [0.5254902 , 0.44313725, 0.32941176],\n",
       "         [0.47843137, 0.40392157, 0.28627451],\n",
       "         ...,\n",
       "         [0.43529412, 0.38431373, 0.31764706],\n",
       "         [0.2745098 , 0.22745098, 0.17254902],\n",
       "         [0.23921569, 0.19215686, 0.1372549 ]]]])"
      ]
     },
     "execution_count": 11,
     "metadata": {},
     "output_type": "execute_result"
    }
   ],
   "source": [
    "x_train"
   ]
  },
  {
   "cell_type": "code",
   "execution_count": 12,
   "id": "6105408e",
   "metadata": {},
   "outputs": [
    {
     "data": {
      "image/png": "[encoded data removed]",
      "text/plain": [
       "<Figure size 640x480 with 1 Axes>"
      ]
     },
     "metadata": {},
     "output_type": "display_data"
    },
    {
     "name": "stdout",
     "output_type": "stream",
     "text": [
      "None\n"
     ]
    }
   ],
   "source": [
    "r_i = r.randint(0, len(x_train))\n",
    "plt.imshow(x_train[r_i,:])\n",
    "print(plt.show())"
   ]
  },
  {
   "cell_type": "markdown",
   "id": "09994603",
   "metadata": {},
   "source": [
    " # model"
   ]
  },
  {
   "cell_type": "code",
   "execution_count": 13,
   "id": "90ef9682",
   "metadata": {},
   "outputs": [],
   "source": [
    "model = Sequential()"
   ]
  },
  {
   "cell_type": "code",
   "execution_count": 14,
   "id": "fb63f948",
   "metadata": {},
   "outputs": [
    {
     "name": "stderr",
     "output_type": "stream",
     "text": [
      "C:\\Users\\polam\\anaconda3\\Lib\\site-packages\\keras\\src\\layers\\convolutional\\base_conv.py:107: UserWarning: Do not pass an `input_shape`/`input_dim` argument to a layer. When using Sequential models, prefer using an `Input(shape)` object as the first layer in the model instead.\n",
      "  super().__init__(activity_regularizer=activity_regularizer, **kwargs)\n"
     ]
    }
   ],
   "source": [
    "model.add(Conv2D(32,(3,3),activation=\"relu\",input_shape=(100,100,3)))\n",
    "model.add(MaxPooling2D((2,2)))\n",
    "model.add(Conv2D(32,(3,3),activation=\"relu\"))\n",
    "model.add(MaxPooling2D((2,2)))\n",
    "model.add(Flatten())\n",
    "model.add(Dense(64,activation=\"relu\"))\n",
    "model.add(Dense(1,activation=\"sigmoid\"))\n",
    "model.compile(optimizer='adam', loss='binary_crossentropy', metrics=['accuracy'])         "
   ]
  },
  {
   "cell_type": "code",
   "execution_count": 38,
   "id": "3e208dce",
   "metadata": {},
   "outputs": [
    {
     "name": "stdout",
     "output_type": "stream",
     "text": [
      "Epoch 1/5\n",
      "\u001b[1m32/32\u001b[0m \u001b[32m━━━━━━━━━━━━━━━━━━━━\u001b[0m\u001b[37m\u001b[0m \u001b[1m3s\u001b[0m 98ms/step - accuracy: 0.9759 - loss: 0.1022 \n",
      "Epoch 2/5\n",
      "\u001b[1m32/32\u001b[0m \u001b[32m━━━━━━━━━━━━━━━━━━━━\u001b[0m\u001b[37m\u001b[0m \u001b[1m3s\u001b[0m 102ms/step - accuracy: 0.9860 - loss: 0.0713\n",
      "Epoch 3/5\n",
      "\u001b[1m32/32\u001b[0m \u001b[32m━━━━━━━━━━━━━━━━━━━━\u001b[0m\u001b[37m\u001b[0m \u001b[1m3s\u001b[0m 97ms/step - accuracy: 0.9930 - loss: 0.0475\n",
      "Epoch 4/5\n",
      "\u001b[1m32/32\u001b[0m \u001b[32m━━━━━━━━━━━━━━━━━━━━\u001b[0m\u001b[37m\u001b[0m \u001b[1m3s\u001b[0m 97ms/step - accuracy: 0.9938 - loss: 0.0400\n",
      "Epoch 5/5\n",
      "\u001b[1m32/32\u001b[0m \u001b[32m━━━━━━━━━━━━━━━━━━━━\u001b[0m\u001b[37m\u001b[0m \u001b[1m3s\u001b[0m 100ms/step - accuracy: 0.9999 - loss: 0.0177\n"
     ]
    },
    {
     "data": {
      "text/plain": [
       "<keras.src.callbacks.history.History at 0x1ab94d99bd0>"
      ]
     },
     "execution_count": 38,
     "metadata": {},
     "output_type": "execute_result"
    }
   ],
   "source": [
    "model.fit(x_train,y_train,epochs=5,batch_size = 64)"
   ]
  },
  {
   "cell_type": "code",
   "execution_count": 39,
   "id": "cb053f35",
   "metadata": {},
   "outputs": [
    {
     "name": "stdout",
     "output_type": "stream",
     "text": [
      "\u001b[1m13/13\u001b[0m \u001b[32m━━━━━━━━━━━━━━━━━━━━\u001b[0m\u001b[37m\u001b[0m \u001b[1m0s\u001b[0m 19ms/step - accuracy: 0.6158 - loss: 1.8967\n"
     ]
    },
    {
     "data": {
      "text/plain": [
       "[1.4690132141113281, 0.6775000095367432]"
      ]
     },
     "execution_count": 39,
     "metadata": {},
     "output_type": "execute_result"
    }
   ],
   "source": [
    "model.evaluate(x_test,y_test)"
   ]
  },
  {
   "cell_type": "markdown",
   "id": "5d54ac5c",
   "metadata": {},
   "source": [
    "# making prediction "
   ]
  },
  {
   "cell_type": "code",
   "execution_count": 43,
   "id": "2c2cad3f",
   "metadata": {},
   "outputs": [
    {
     "data": {
      "image/png": "[encoded data removed]",
      "text/plain": [
       "<Figure size 640x480 with 1 Axes>"
      ]
     },
     "metadata": {},
     "output_type": "display_data"
    },
    {
     "name": "stdout",
     "output_type": "stream",
     "text": [
      "\u001b[1m1/1\u001b[0m \u001b[32m━━━━━━━━━━━━━━━━━━━━\u001b[0m\u001b[37m\u001b[0m \u001b[1m0s\u001b[0m 47ms/step\n",
      "cat\n"
     ]
    }
   ],
   "source": [
    "idx = r.randint(0,len(y_test))\n",
    "plt.imshow(x_test[idx,:])\n",
    "plt.show()\n",
    "y_prd =model.predict(x_test[idx,:].reshape(1,100,100,3))\n",
    "y_prd=y_prd>0.5\n",
    "if(y_prd==0):\n",
    "    pred = \"dog\"\n",
    "else:\n",
    "    pred=\"cat\"\n",
    "print(pred)"
   ]
  },
  {
   "cell_type": "code",
   "execution_count": 58,
   "id": "55449953",
   "metadata": {},
   "outputs": [],
   "source": [
    "from sklearn.metrics import accuracy_score,f1_score,recall_score,precision_score"
   ]
  },
  {
   "cell_type": "code",
   "execution_count": 53,
   "id": "ba8d800e",
   "metadata": {},
   "outputs": [
    {
     "name": "stdout",
     "output_type": "stream",
     "text": [
      "\u001b[1m13/13\u001b[0m \u001b[32m━━━━━━━━━━━━━━━━━━━━\u001b[0m\u001b[37m\u001b[0m \u001b[1m0s\u001b[0m 19ms/step\n"
     ]
    }
   ],
   "source": [
    "y_pred  = model.predict(x_test)\n",
    "y_prd_binary = (y_pred > 0.5).astype(int)"
   ]
  },
  {
   "cell_type": "markdown",
   "id": "fea6d3be",
   "metadata": {},
   "source": [
    "# Accuracy score"
   ]
  },
  {
   "cell_type": "code",
   "execution_count": 52,
   "id": "3e9882f2",
   "metadata": {},
   "outputs": [
    {
     "name": "stdout",
     "output_type": "stream",
     "text": [
      "0.6775\n"
     ]
    }
   ],
   "source": [
    "print(accuracy_score(y_prd_binary,y_test))"
   ]
  },
  {
   "cell_type": "markdown",
   "id": "b2221966",
   "metadata": {},
   "source": [
    "# f1_score"
   ]
  },
  {
   "cell_type": "code",
   "execution_count": 51,
   "id": "b769f900",
   "metadata": {},
   "outputs": [
    {
     "name": "stdout",
     "output_type": "stream",
     "text": [
      "0.7006960556844547\n"
     ]
    }
   ],
   "source": [
    "print(f1_score(y_prd_binary,y_test))"
   ]
  },
  {
   "cell_type": "markdown",
   "id": "9e78261b",
   "metadata": {},
   "source": [
    "# precision score"
   ]
  },
  {
   "cell_type": "code",
   "execution_count": 59,
   "id": "a57a74f7",
   "metadata": {},
   "outputs": [
    {
     "name": "stdout",
     "output_type": "stream",
     "text": [
      "0.755\n"
     ]
    }
   ],
   "source": [
    "print(precision_score(y_prd_binary,y_test))"
   ]
  },
  {
   "cell_type": "markdown",
   "id": "1c3ed1f7",
   "metadata": {},
   "source": [
    "# recall_score"
   ]
  },
  {
   "cell_type": "code",
   "execution_count": 60,
   "id": "53fde418",
   "metadata": {},
   "outputs": [
    {
     "name": "stdout",
     "output_type": "stream",
     "text": [
      "0.6536796536796536\n"
     ]
    }
   ],
   "source": [
    "print(recall_score(y_prd_binary,y_test))"
   ]
  }
 ],
 "metadata": {
  "kernelspec": {
   "display_name": "Python 3 (ipykernel)",
   "language": "python",
   "name": "python3"
  },
  "language_info": {
   "codemirror_mode": {
    "name": "ipython",
    "version": 3
   },
   "file_extension": ".py",
   "mimetype": "text/x-python",
   "name": "python",
   "nbconvert_exporter": "python",
   "pygments_lexer": "ipython3",
   "version": "3.11.7"
  }
 },
 "nbformat": 4,
 "nbformat_minor": 5
}
